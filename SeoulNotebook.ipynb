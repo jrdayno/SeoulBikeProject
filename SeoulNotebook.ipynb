{
 "cells": [
  {
   "cell_type": "code",
   "execution_count": 1,
   "id": "engaged-turkey",
   "metadata": {
    "scrolled": false
   },
   "outputs": [],
   "source": [
    "# Loading Data\n",
    "import pandas as pd\n",
    "df = pd.read_csv('bikedata.csv')"
   ]
  },
  {
   "cell_type": "code",
   "execution_count": 4,
   "id": "urban-redhead",
   "metadata": {},
   "outputs": [],
   "source": [
    "import numpy as np\n",
    "import matplotlib.pyplot as plt\n",
    "import seaborn as sns\n",
    "import os"
   ]
  },
  {
   "cell_type": "code",
   "execution_count": 11,
   "id": "handy-momentum",
   "metadata": {},
   "outputs": [
    {
     "name": "stdout",
     "output_type": "stream",
     "text": [
      "(9601139, 26)\n"
     ]
    }
   ],
   "source": [
    "df.columns\n",
    "df.head()\n",
    "print(df.shape)"
   ]
  },
  {
   "cell_type": "code",
   "execution_count": 5,
   "id": "democratic-murray",
   "metadata": {
    "scrolled": true
   },
   "outputs": [
    {
     "data": {
      "text/plain": [
       "Series([], dtype: float64)"
      ]
     },
     "execution_count": 5,
     "metadata": {},
     "output_type": "execute_result"
    }
   ],
   "source": [
    "# Columns --> ['Unnamed: 0', 'Duration', 'Distance', 'PLong', 'PLatd', 'DLong', 'DLatd', 'Haversine',\n",
    "#              'Pmonth', 'Pday', 'Phour', 'Pmin', 'Dmonth', 'Dday', 'Dhour', 'Dmin',\n",
    "#               'Temp', 'Precip', 'Wind', 'Humid', 'Solar', 'Snow', 'GroundTemp','Dust']\n",
    "null_columns=df.columns[df.isnull().any()]\n",
    "df[null_columns].isnull().sum()"
   ]
  },
  {
   "cell_type": "code",
   "execution_count": 6,
   "id": "offensive-grave",
   "metadata": {},
   "outputs": [],
   "source": [
    "# Checking for duplicates and 0 distance trips/0 Haversine trips\n",
    "np.any(df.dtypes==object) # No categorical columns\n",
    "dupes = df[df.duplicated()]\n",
    "dupes.shape\n",
    "dfloca = df.copy()\n",
    "dfloca['PLongstr'] = dfloca['PLong'].astype(str) + ','\n",
    "dfloca['PLatdstr'] = dfloca['PLatd'].astype(str)\n",
    "dfloca['DLongstr'] = dfloca['DLong'].astype(str) + ','\n",
    "dfloca['DLatdstr'] = dfloca['DLatd'].astype(str)"
   ]
  },
  {
   "cell_type": "code",
   "execution_count": 7,
   "id": "aerial-blackjack",
   "metadata": {},
   "outputs": [],
   "source": [
    "dfloca['PCoords'] = dfloca['PLongstr'] + dfloca['PLatdstr']\n",
    "dfloca['DCoords'] = dfloca['DLongstr'] + dfloca['DLatdstr']"
   ]
  },
  {
   "cell_type": "code",
   "execution_count": 8,
   "id": "bottom-bruce",
   "metadata": {},
   "outputs": [],
   "source": [
    "dfloca['FullCoord'] = dfloca['PCoords'] + dfloca['DCoords']"
   ]
  },
  {
   "cell_type": "code",
   "execution_count": 10,
   "id": "exceptional-assets",
   "metadata": {},
   "outputs": [
    {
     "name": "stdout",
     "output_type": "stream",
     "text": [
      "(0, 26)\n",
      "(955083, 26)\n",
      "(955083, 33)\n"
     ]
    }
   ],
   "source": [
    "zeroD = df[df.Distance <= 0]\n",
    "print(zeroD.shape)\n",
    "zeroH = df[df.Haversine <= 0]\n",
    "print(zeroH.shape)\n",
    "PequalD = dfloca[dfloca.PCoords == dfloca.DCoords]\n",
    "print(PequalD.shape)\n",
    "\n",
    "# About 955,000 trips show 0 haversine and the same Pick-up Coords and Drop-off Coords, this is probably caused by the biker's \n",
    "# decision to not use the bike after all. This is important as these data points correlate more closely with other features \n",
    "# Trial 1: Keeping all Coords"
   ]
  },
  {
   "cell_type": "code",
   "execution_count": 16,
   "id": "floppy-hands",
   "metadata": {
    "scrolled": true
   },
   "outputs": [
    {
     "data": {
      "text/plain": [
       "1      157103\n",
       "2      161402\n",
       "3      440407\n",
       "12     487776\n",
       "4      651082\n",
       "5      906812\n",
       "11     927050\n",
       "8      984998\n",
       "7     1047834\n",
       "6     1109347\n",
       "10    1357441\n",
       "9     1369887\n",
       "Name: Pmonth, dtype: int64"
      ]
     },
     "execution_count": 16,
     "metadata": {},
     "output_type": "execute_result"
    }
   ],
   "source": [
    "# Geographical representation of January Trips\n",
    "# Need to find how many trips there are in each month\n",
    "dfloca = dfloca.drop(['Temp', 'Precip', 'Wind', 'Humid', 'Solar', 'Snow', 'GroundTemp','Dust','FullCoord','PLongstr','PLatdstr','DLongstr','DLatdstr','PLong', 'PLatd', 'DLong', 'DLatd', 'Unnamed: 0'], axis = 1)\n",
    "dfloca['Pmonth'].value_counts().sort_values()"
   ]
  },
  {
   "cell_type": "code",
   "execution_count": 17,
   "id": "atomic-russell",
   "metadata": {},
   "outputs": [
    {
     "data": {
      "text/plain": [
       "<bound method NDFrame.head of          Duration  Distance  Haversine  Pmonth  Pday  Phour  Pmin  PDweek  \\\n",
       "0               3        50   0.000000       1     1      0     0       0   \n",
       "1              24      7670   5.713529       1     1      0     0       0   \n",
       "2               8      1390   0.913702       1     1      0     0       0   \n",
       "3               8      1820   1.468027       1     1      0     1       0   \n",
       "4               4       850   0.823227       1     1      0     1       0   \n",
       "...           ...       ...        ...     ...   ...    ...   ...     ...   \n",
       "9601134        67      6930   0.000000      12    31     23    43       0   \n",
       "9601135        58      8320   4.402263      12    31     23    54       0   \n",
       "9601136       118      2730   1.389156      12    31     22    59       0   \n",
       "9601137        90     17170   8.779307      12    31     23    55       0   \n",
       "9601138       116      1410   0.000000      12    31     23    33       0   \n",
       "\n",
       "         Dmonth  Dday  Dhour  Dmin  DDweek               PCoords  \\\n",
       "0             1     1      0     4       0  37.544666,126.888359   \n",
       "1             1     1      0    25       0  37.506199,127.003944   \n",
       "2             1     1      0     9       0   37.54459,127.057083   \n",
       "3             1     1      0    10       0   37.571102,127.02356   \n",
       "4             1     1      0     6       0  37.573242,127.015907   \n",
       "...         ...   ...    ...   ...     ...                   ...   \n",
       "9601134       1     1      0    51       1  37.562607,127.051308   \n",
       "9601135       1     1      0    53       1  37.511982,127.085052   \n",
       "9601136       1     1      0    58       1  37.506199,127.003944   \n",
       "9601137       1     1      1    26       1   37.48975,126.927467   \n",
       "9601138       1     1      1    30       1   37.585655,127.07505   \n",
       "\n",
       "                              DCoords  \n",
       "0                37.544666,126.888359  \n",
       "1                 37.55125,127.035103  \n",
       "2                37.537014,127.061096  \n",
       "3                 37.561447,127.03492  \n",
       "4                37.565849,127.016403  \n",
       "...                               ...  \n",
       "9601134          37.562607,127.051308  \n",
       "9601135          37.476028,127.105942  \n",
       "9601136           37.51487,127.015282  \n",
       "9601137  37.56590300000001,126.901184  \n",
       "9601138           37.585655,127.07505  \n",
       "\n",
       "[9601139 rows x 15 columns]>"
      ]
     },
     "execution_count": 17,
     "metadata": {},
     "output_type": "execute_result"
    }
   ],
   "source": [
    "dfloca.head"
   ]
  }
 ],
 "metadata": {
  "kernelspec": {
   "display_name": "Python 3",
   "language": "python",
   "name": "python3"
  },
  "language_info": {
   "codemirror_mode": {
    "name": "ipython",
    "version": 3
   },
   "file_extension": ".py",
   "mimetype": "text/x-python",
   "name": "python",
   "nbconvert_exporter": "python",
   "pygments_lexer": "ipython3",
   "version": "3.8.8"
  }
 },
 "nbformat": 4,
 "nbformat_minor": 5
}
